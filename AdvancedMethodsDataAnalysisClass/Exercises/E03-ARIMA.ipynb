{
 "cells": [
  {
   "cell_type": "markdown",
   "metadata": {},
   "source": [
    "# Exercise 03 - Autoregressive Integrated Moving Average Models\n",
    "\n",
    "- The result will be evaluated from a report in Jupiter, which must be found in a public GitHub repository.\n",
    "- The project must be carried out in the groups assigned in class.\n",
    "- Use clear and rigorous procedures.\n",
    "- Due date: 22, 2020, 11:59 pm, through Sicua + (Upload repository link)\n",
    "\n",
    "# 03.1 - Plot the ACF and PACF of the 4 series in data_arma.csv\n",
    "### Try to say to which AR or MA process each series belong"
   ]
  },
  {
   "cell_type": "code",
   "execution_count": 29,
   "metadata": {},
   "outputs": [
    {
     "data": {
      "text/html": [
       "<div>\n",
       "<style scoped>\n",
       "    .dataframe tbody tr th:only-of-type {\n",
       "        vertical-align: middle;\n",
       "    }\n",
       "\n",
       "    .dataframe tbody tr th {\n",
       "        vertical-align: top;\n",
       "    }\n",
       "\n",
       "    .dataframe thead th {\n",
       "        text-align: right;\n",
       "    }\n",
       "</style>\n",
       "<table border=\"1\" class=\"dataframe\">\n",
       "  <thead>\n",
       "    <tr style=\"text-align: right;\">\n",
       "      <th></th>\n",
       "      <th>Unnamed: 0</th>\n",
       "      <th>ts2</th>\n",
       "      <th>ts3</th>\n",
       "      <th>ts4</th>\n",
       "    </tr>\n",
       "    <tr>\n",
       "      <th>ts1</th>\n",
       "      <th></th>\n",
       "      <th></th>\n",
       "      <th></th>\n",
       "      <th></th>\n",
       "    </tr>\n",
       "  </thead>\n",
       "  <tbody>\n",
       "    <tr>\n",
       "      <th>0.533570</th>\n",
       "      <td>0</td>\n",
       "      <td>-0.126804</td>\n",
       "      <td>-0.802837</td>\n",
       "      <td>1.812825</td>\n",
       "    </tr>\n",
       "    <tr>\n",
       "      <th>1.240130</th>\n",
       "      <td>1</td>\n",
       "      <td>1.314360</td>\n",
       "      <td>-0.595602</td>\n",
       "      <td>0.042764</td>\n",
       "    </tr>\n",
       "    <tr>\n",
       "      <th>1.618598</th>\n",
       "      <td>2</td>\n",
       "      <td>1.405994</td>\n",
       "      <td>0.127180</td>\n",
       "      <td>-1.759427</td>\n",
       "    </tr>\n",
       "    <tr>\n",
       "      <th>1.140465</th>\n",
       "      <td>3</td>\n",
       "      <td>3.132621</td>\n",
       "      <td>0.958586</td>\n",
       "      <td>-0.456798</td>\n",
       "    </tr>\n",
       "    <tr>\n",
       "      <th>0.481561</th>\n",
       "      <td>4</td>\n",
       "      <td>3.179083</td>\n",
       "      <td>0.164598</td>\n",
       "      <td>-1.254790</td>\n",
       "    </tr>\n",
       "  </tbody>\n",
       "</table>\n",
       "</div>"
      ],
      "text/plain": [
       "          Unnamed: 0       ts2       ts3       ts4\n",
       "ts1                                               \n",
       "0.533570           0 -0.126804 -0.802837  1.812825\n",
       "1.240130           1  1.314360 -0.595602  0.042764\n",
       "1.618598           2  1.405994  0.127180 -1.759427\n",
       "1.140465           3  3.132621  0.958586 -0.456798\n",
       "0.481561           4  3.179083  0.164598 -1.254790"
      ]
     },
     "execution_count": 29,
     "metadata": {},
     "output_type": "execute_result"
    }
   ],
   "source": [
    "from statsmodels.graphics.tsaplots import plot_acf\n",
    "import pandas as pd\n",
    "\n",
    "data = pd.read_csv('../datasets/data_arma.csv', index_col=1)\n",
    "data.head()\n"
   ]
  },
  {
   "cell_type": "code",
   "execution_count": 37,
   "metadata": {},
   "outputs": [],
   "source": [
    "ts1 = pd.DataFrame(data, \n",
    "                  columns=['ts1'])"
   ]
  },
  {
   "cell_type": "code",
   "execution_count": 38,
   "metadata": {},
   "outputs": [
    {
     "data": {
      "image/png": "[encoded data removed]",
      "text/plain": [
       "<Figure size 432x288 with 1 Axes>"
      ]
     },
     "execution_count": 38,
     "metadata": {},
     "output_type": "execute_result"
    },
    {
     "data": {
      "image/png": "[encoded data removed]",
      "text/plain": [
       "<Figure size 432x288 with 1 Axes>"
      ]
     },
     "metadata": {
      "needs_background": "light"
     },
     "output_type": "display_data"
    }
   ],
   "source": [
    "plot_acf(ts1, lags=50)"
   ]
  },
  {
   "cell_type": "code",
   "execution_count": null,
   "metadata": {},
   "outputs": [],
   "source": [
    "ts2 = pd.DataFrame(data, \n",
    "                  index=pd.date_range(\"2020-01-01\", periods=30),\n",
    "                  columns=['ts2'])\n",
    "\n",
    "plot_acf(ts2, lags=10);"
   ]
  },
  {
   "cell_type": "markdown",
   "metadata": {},
   "source": [
    "# 03.2 - Using the shampoo dataset:\n",
    "## Find the parameters p, d q that minimizes the mse of the rolling forecast\n"
   ]
  },
  {
   "cell_type": "code",
   "execution_count": null,
   "metadata": {},
   "outputs": [],
   "source": []
  },
  {
   "cell_type": "code",
   "execution_count": null,
   "metadata": {},
   "outputs": [],
   "source": []
  },
  {
   "cell_type": "code",
   "execution_count": null,
   "metadata": {},
   "outputs": [],
   "source": []
  },
  {
   "cell_type": "code",
   "execution_count": null,
   "metadata": {},
   "outputs": [],
   "source": []
  }
 ],
 "metadata": {
  "kernelspec": {
   "display_name": "Python 3",
   "language": "python",
   "name": "python3"
  },
  "language_info": {
   "codemirror_mode": {
    "name": "ipython",
    "version": 3
   },
   "file_extension": ".py",
   "mimetype": "text/x-python",
   "name": "python",
   "nbconvert_exporter": "python",
   "pygments_lexer": "ipython3",
   "version": "3.7.6"
  }
 },
 "nbformat": 4,
 "nbformat_minor": 4
}
